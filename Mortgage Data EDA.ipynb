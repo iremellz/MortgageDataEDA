{
  "cells": [
    {
      "cell_type": "markdown",
      "metadata": {
        "id": "view-in-github",
        "colab_type": "text"
      },
      "source": [
        "<a href=\"https://colab.research.google.com/github/iremellz/Mortgage_Data_EDA/blob/main/Mortgage%20Data%20EDA.ipynb\" target=\"_parent\"><img src=\"https://colab.research.google.com/assets/colab-badge.svg\" alt=\"Open In Colab\"/></a>"
      ]
    },
    {
      "cell_type": "markdown",
      "metadata": {
        "id": "LlQo0OUkoomw"
      },
      "source": [
        "# Downloading the CSV File and Column Data to Create Dataframe for Analysis"
      ]
    },
    {
      "cell_type": "code",
      "execution_count": null,
      "metadata": {
        "id": "Pm79Gkn0YfzB"
      },
      "outputs": [],
      "source": [
        "import pandas as pd\n",
        "import numpy as np\n",
        "import matplotlib.pyplot as plt\n",
        "import seaborn as sns\n",
        "from sklearn.impute import SimpleImputer\n",
        "from pandas.core.algorithms import mode\n",
        "import random"
      ]
    },
    {
      "cell_type": "markdown",
      "metadata": {
        "id": "-t_pStR9pkvT"
      },
      "source": [
        "## Uploading the CSV file to Python"
      ]
    },
    {
      "cell_type": "code",
      "execution_count": null,
      "metadata": {
        "colab": {
          "base_uri": "https://localhost:8080/"
        },
        "id": "le6XFC2JcWUx",
        "outputId": "5fe0e43a-061a-4d9f-f475-06d48ef1c02b"
      },
      "outputs": [
        {
          "output_type": "stream",
          "name": "stdout",
          "text": [
            "Mounted at /content/gdrive\n"
          ]
        }
      ],
      "source": [
        "from google.colab import drive\n",
        "drive.mount('/content/gdrive')"
      ]
    },
    {
      "cell_type": "code",
      "execution_count": null,
      "metadata": {
        "colab": {
          "base_uri": "https://localhost:8080/"
        },
        "id": "HU1eWI-9dA5K",
        "outputId": "f266a014-74e5-4e3a-94b8-af6599f4b2f6"
      },
      "outputs": [
        {
          "output_type": "stream",
          "name": "stdout",
          "text": [
            "Access denied with the following error:\n",
            "\n",
            " \tCannot retrieve the public link of the file. You may need to change\n",
            "\tthe permission to 'Anyone with the link', or have had many accesses. \n",
            "\n",
            "You may still be able to access the file from the browser:\n",
            "\n",
            "\t https://drive.google.com/uc?id=1B1510RsBuaaAWYxXR1f966LVGh2OAuk- \n",
            "\n"
          ]
        }
      ],
      "source": [
        "!gdown 1B1510RsBuaaAWYxXR1f966LVGh2OAuk-"
      ]
    },
    {
      "cell_type": "code",
      "execution_count": null,
      "metadata": {
        "colab": {
          "base_uri": "https://localhost:8080/"
        },
        "id": "Tw9zI74mNVev",
        "outputId": "1b7319f7-524e-4b84-a456-40363d15202d"
      },
      "outputs": [
        {
          "output_type": "stream",
          "name": "stdout",
          "text": [
            "Mounted at /content/drive\n"
          ]
        }
      ],
      "source": [
        "from google.colab import drive\n",
        "drive.mount('/content/drive')"
      ]
    },
    {
      "cell_type": "markdown",
      "metadata": {
        "id": "wdgp05gLpu9i"
      },
      "source": [
        "## Uploading Column Info Provided in Appendix A to Python for Processing the CSV File"
      ]
    },
    {
      "cell_type": "code",
      "execution_count": null,
      "metadata": {
        "id": "u5LmfxCpXJQJ"
      },
      "outputs": [],
      "source": [
        "from google.colab import files"
      ]
    },
    {
      "cell_type": "code",
      "execution_count": null,
      "metadata": {
        "colab": {
          "base_uri": "https://localhost:8080/"
        },
        "id": "ivfd2nmWXK1c",
        "outputId": "fdcd187a-a363-4a05-9ed0-f20f7d00a40a"
      },
      "outputs": [
        {
          "data": {
            "text/html": [
              "\n",
              "     <input type=\"file\" id=\"files-4375c52a-9fa8-4d88-a3af-5c6507c16f22\" name=\"files[]\" multiple disabled\n",
              "        style=\"border:none\" />\n",
              "     <output id=\"result-4375c52a-9fa8-4d88-a3af-5c6507c16f22\">\n",
              "      Upload widget is only available when the cell has been executed in the\n",
              "      current browser session. Please rerun this cell to enable.\n",
              "      </output>\n",
              "      <script>// Copyright 2017 Google LLC\n",
              "//\n",
              "// Licensed under the Apache License, Version 2.0 (the \"License\");\n",
              "// you may not use this file except in compliance with the License.\n",
              "// You may obtain a copy of the License at\n",
              "//\n",
              "//      http://www.apache.org/licenses/LICENSE-2.0\n",
              "//\n",
              "// Unless required by applicable law or agreed to in writing, software\n",
              "// distributed under the License is distributed on an \"AS IS\" BASIS,\n",
              "// WITHOUT WARRANTIES OR CONDITIONS OF ANY KIND, either express or implied.\n",
              "// See the License for the specific language governing permissions and\n",
              "// limitations under the License.\n",
              "\n",
              "/**\n",
              " * @fileoverview Helpers for google.colab Python module.\n",
              " */\n",
              "(function(scope) {\n",
              "function span(text, styleAttributes = {}) {\n",
              "  const element = document.createElement('span');\n",
              "  element.textContent = text;\n",
              "  for (const key of Object.keys(styleAttributes)) {\n",
              "    element.style[key] = styleAttributes[key];\n",
              "  }\n",
              "  return element;\n",
              "}\n",
              "\n",
              "// Max number of bytes which will be uploaded at a time.\n",
              "const MAX_PAYLOAD_SIZE = 100 * 1024;\n",
              "\n",
              "function _uploadFiles(inputId, outputId) {\n",
              "  const steps = uploadFilesStep(inputId, outputId);\n",
              "  const outputElement = document.getElementById(outputId);\n",
              "  // Cache steps on the outputElement to make it available for the next call\n",
              "  // to uploadFilesContinue from Python.\n",
              "  outputElement.steps = steps;\n",
              "\n",
              "  return _uploadFilesContinue(outputId);\n",
              "}\n",
              "\n",
              "// This is roughly an async generator (not supported in the browser yet),\n",
              "// where there are multiple asynchronous steps and the Python side is going\n",
              "// to poll for completion of each step.\n",
              "// This uses a Promise to block the python side on completion of each step,\n",
              "// then passes the result of the previous step as the input to the next step.\n",
              "function _uploadFilesContinue(outputId) {\n",
              "  const outputElement = document.getElementById(outputId);\n",
              "  const steps = outputElement.steps;\n",
              "\n",
              "  const next = steps.next(outputElement.lastPromiseValue);\n",
              "  return Promise.resolve(next.value.promise).then((value) => {\n",
              "    // Cache the last promise value to make it available to the next\n",
              "    // step of the generator.\n",
              "    outputElement.lastPromiseValue = value;\n",
              "    return next.value.response;\n",
              "  });\n",
              "}\n",
              "\n",
              "/**\n",
              " * Generator function which is called between each async step of the upload\n",
              " * process.\n",
              " * @param {string} inputId Element ID of the input file picker element.\n",
              " * @param {string} outputId Element ID of the output display.\n",
              " * @return {!Iterable<!Object>} Iterable of next steps.\n",
              " */\n",
              "function* uploadFilesStep(inputId, outputId) {\n",
              "  const inputElement = document.getElementById(inputId);\n",
              "  inputElement.disabled = false;\n",
              "\n",
              "  const outputElement = document.getElementById(outputId);\n",
              "  outputElement.innerHTML = '';\n",
              "\n",
              "  const pickedPromise = new Promise((resolve) => {\n",
              "    inputElement.addEventListener('change', (e) => {\n",
              "      resolve(e.target.files);\n",
              "    });\n",
              "  });\n",
              "\n",
              "  const cancel = document.createElement('button');\n",
              "  inputElement.parentElement.appendChild(cancel);\n",
              "  cancel.textContent = 'Cancel upload';\n",
              "  const cancelPromise = new Promise((resolve) => {\n",
              "    cancel.onclick = () => {\n",
              "      resolve(null);\n",
              "    };\n",
              "  });\n",
              "\n",
              "  // Wait for the user to pick the files.\n",
              "  const files = yield {\n",
              "    promise: Promise.race([pickedPromise, cancelPromise]),\n",
              "    response: {\n",
              "      action: 'starting',\n",
              "    }\n",
              "  };\n",
              "\n",
              "  cancel.remove();\n",
              "\n",
              "  // Disable the input element since further picks are not allowed.\n",
              "  inputElement.disabled = true;\n",
              "\n",
              "  if (!files) {\n",
              "    return {\n",
              "      response: {\n",
              "        action: 'complete',\n",
              "      }\n",
              "    };\n",
              "  }\n",
              "\n",
              "  for (const file of files) {\n",
              "    const li = document.createElement('li');\n",
              "    li.append(span(file.name, {fontWeight: 'bold'}));\n",
              "    li.append(span(\n",
              "        `(${file.type || 'n/a'}) - ${file.size} bytes, ` +\n",
              "        `last modified: ${\n",
              "            file.lastModifiedDate ? file.lastModifiedDate.toLocaleDateString() :\n",
              "                                    'n/a'} - `));\n",
              "    const percent = span('0% done');\n",
              "    li.appendChild(percent);\n",
              "\n",
              "    outputElement.appendChild(li);\n",
              "\n",
              "    const fileDataPromise = new Promise((resolve) => {\n",
              "      const reader = new FileReader();\n",
              "      reader.onload = (e) => {\n",
              "        resolve(e.target.result);\n",
              "      };\n",
              "      reader.readAsArrayBuffer(file);\n",
              "    });\n",
              "    // Wait for the data to be ready.\n",
              "    let fileData = yield {\n",
              "      promise: fileDataPromise,\n",
              "      response: {\n",
              "        action: 'continue',\n",
              "      }\n",
              "    };\n",
              "\n",
              "    // Use a chunked sending to avoid message size limits. See b/62115660.\n",
              "    let position = 0;\n",
              "    do {\n",
              "      const length = Math.min(fileData.byteLength - position, MAX_PAYLOAD_SIZE);\n",
              "      const chunk = new Uint8Array(fileData, position, length);\n",
              "      position += length;\n",
              "\n",
              "      const base64 = btoa(String.fromCharCode.apply(null, chunk));\n",
              "      yield {\n",
              "        response: {\n",
              "          action: 'append',\n",
              "          file: file.name,\n",
              "          data: base64,\n",
              "        },\n",
              "      };\n",
              "\n",
              "      let percentDone = fileData.byteLength === 0 ?\n",
              "          100 :\n",
              "          Math.round((position / fileData.byteLength) * 100);\n",
              "      percent.textContent = `${percentDone}% done`;\n",
              "\n",
              "    } while (position < fileData.byteLength);\n",
              "  }\n",
              "\n",
              "  // All done.\n",
              "  yield {\n",
              "    response: {\n",
              "      action: 'complete',\n",
              "    }\n",
              "  };\n",
              "}\n",
              "\n",
              "scope.google = scope.google || {};\n",
              "scope.google.colab = scope.google.colab || {};\n",
              "scope.google.colab._files = {\n",
              "  _uploadFiles,\n",
              "  _uploadFilesContinue,\n",
              "};\n",
              "})(self);\n",
              "</script> "
            ],
            "text/plain": [
              "<IPython.core.display.HTML object>"
            ]
          },
          "metadata": {},
          "output_type": "display_data"
        }
      ],
      "source": [
        "uploaded = files.upload()"
      ]
    },
    {
      "cell_type": "code",
      "execution_count": null,
      "metadata": {
        "id": "cJTqYyFp9J_-"
      },
      "outputs": [],
      "source": [
        "fileObject = open(\"column_names_types.txt\", \"r\")\n",
        "columns = fileObject.read()\n"
      ]
    },
    {
      "cell_type": "code",
      "execution_count": null,
      "metadata": {
        "id": "ZHW8bY5wXHUc"
      },
      "outputs": [],
      "source": [
        "column_info=columns.split(',')\n",
        "column_info"
      ]
    },
    {
      "cell_type": "code",
      "execution_count": null,
      "metadata": {
        "id": "W91piRkw9tNZ"
      },
      "outputs": [],
      "source": [
        "column_name= column_info[::2]"
      ]
    },
    {
      "cell_type": "code",
      "execution_count": null,
      "metadata": {
        "id": "WcLmyvJZsrbN"
      },
      "outputs": [],
      "source": [
        "column_name= column_name[0:110]"
      ]
    },
    {
      "cell_type": "code",
      "execution_count": null,
      "metadata": {
        "id": "l36w1vQ-dKbB"
      },
      "outputs": [],
      "source": [
        "column_name"
      ]
    },
    {
      "cell_type": "code",
      "execution_count": null,
      "metadata": {
        "id": "6IdKkcdIZPb3"
      },
      "outputs": [],
      "source": [
        "column_type= column_info[1::2]"
      ]
    },
    {
      "cell_type": "code",
      "execution_count": null,
      "metadata": {
        "id": "A_Qnk50Zb0p0"
      },
      "outputs": [],
      "source": [
        "column_type"
      ]
    },
    {
      "cell_type": "code",
      "execution_count": null,
      "metadata": {
        "id": "Bok1UVBkdtS7"
      },
      "outputs": [],
      "source": [
        "col_dict= dict(zip(column_name,column_type))\n",
        "print(col_dict)"
      ]
    },
    {
      "cell_type": "markdown",
      "metadata": {
        "id": "m3zy_8O1qAcB"
      },
      "source": [
        "## Creating the Dataframe and Initial Analysis/Cleaning of Dataframe"
      ]
    },
    {
      "cell_type": "code",
      "execution_count": null,
      "metadata": {
        "id": "eHpuOfecdabc"
      },
      "outputs": [],
      "source": [
        "df= pd.read_csv('Group_Project_1.csv', sep= '|', header=None, names=column_name, dtype=col_dict)"
      ]
    },
    {
      "cell_type": "code",
      "execution_count": null,
      "metadata": {
        "id": "7x4XU4xjS6IP"
      },
      "outputs": [],
      "source": [
        "df"
      ]
    },
    {
      "cell_type": "code",
      "execution_count": null,
      "metadata": {
        "id": "aUwv4ybjANgW"
      },
      "outputs": [],
      "source": [
        "performance_vars=['act_period','loan_age','rem_months','dlq_status','zero_bal_code','zb_dte',]"
      ]
    },
    {
      "cell_type": "code",
      "execution_count": null,
      "metadata": {
        "id": "QHDqAdFVAUal"
      },
      "outputs": [],
      "source": [
        "acqusition_vars=[\n",
        "'loan_id',\n",
        "'channel',\n",
        "'orig_rate',\n",
        "'orig_upb',\n",
        "'orig_term',\n",
        "'orig_date',\n",
        "'first_pay',\n",
        "'matr_dt',\n",
        "'oltv',\n",
        "'ocltv',\n",
        "'num_bo',\n",
        "'dti',\n",
        "'cscore_b',\n",
        "'cscore_c',\n",
        "'first_flag',\n",
        "'purpose',\n",
        "'prop',\n",
        "'no_units',\n",
        "'occ_stat',\n",
        "'state',\n",
        "'msa',\n",
        "'zip',\n",
        "'mi_pct',\n",
        "'product',\n",
        "'ppmt_flg',\n",
        "'io',\n",
        "'first_pay_io',\n",
        "'mi_type',\n",
        "'homeready_program_indicator',\n",
        "'relocation_mortgage_indicator',\n",
        "'high_balance_loan_indicator',\n",
        "'arm_5_yr_indicator',\n",
        "'arm_product_type',\n",
        "'months_until_first_payment_reset',\n",
        "'months_between_subsequent_payment_reset',\n",
        "'arm_index',\n",
        "'arm_cap_structure',\n",
        "'initial_interest_rate_cap',\n",
        "'periodic_interest_rate_cap',\n",
        "'lifetime_interest_rate_cap',\n",
        "'margin',\n",
        "'balloon_indicator',\n",
        "'plan_number',\n",
        "'high_loan_to_value_hltv_refinance_option_indicator',\n",
        "]"
      ]
    },
    {
      "cell_type": "code",
      "execution_count": null,
      "metadata": {
        "id": "EVRNwd6jQncv"
      },
      "outputs": [],
      "source": [
        "useful_vars= performance_vars+acqusition_vars"
      ]
    },
    {
      "cell_type": "code",
      "execution_count": null,
      "metadata": {
        "id": "y_MKSWqQhctL"
      },
      "outputs": [],
      "source": [
        "parse_dates=['orig_date','first_pay','zb_dte','act_period','matr_dt']\n",
        "for i in parse_dates:\n",
        "  df[i]=pd.to_datetime(df[i])"
      ]
    },
    {
      "cell_type": "code",
      "execution_count": null,
      "metadata": {
        "id": "MMLNl8_GLw36"
      },
      "outputs": [],
      "source": [
        "print(df.dtypes)"
      ]
    },
    {
      "cell_type": "code",
      "execution_count": null,
      "metadata": {
        "id": "0L10c4mXQ53S"
      },
      "outputs": [],
      "source": [
        "df= df[useful_vars]"
      ]
    },
    {
      "cell_type": "code",
      "execution_count": null,
      "metadata": {
        "id": "lhaGT2QNTKGB"
      },
      "outputs": [],
      "source": [
        "df.shape"
      ]
    },
    {
      "cell_type": "code",
      "execution_count": null,
      "metadata": {
        "id": "sYxgGPN2ielp"
      },
      "outputs": [],
      "source": [
        "df.describe().round(2)"
      ]
    },
    {
      "cell_type": "code",
      "execution_count": null,
      "metadata": {
        "id": "ruDdqNsXURW5"
      },
      "outputs": [],
      "source": [
        "df.info()"
      ]
    },
    {
      "cell_type": "code",
      "execution_count": null,
      "metadata": {
        "id": "xvL18gY8iuJ4"
      },
      "outputs": [],
      "source": [
        "print(df.isnull().sum())"
      ]
    },
    {
      "cell_type": "markdown",
      "metadata": {
        "id": "zhCECcqIpbQu"
      },
      "source": [
        "# Downsampling and Creating Termination States"
      ]
    },
    {
      "cell_type": "markdown",
      "metadata": {
        "id": "GwK6Vt2iqbTC"
      },
      "source": [
        "##Downsampling"
      ]
    },
    {
      "cell_type": "code",
      "execution_count": null,
      "metadata": {
        "id": "dMno6DH1k4uC"
      },
      "outputs": [],
      "source": [
        "df_sample=df.sample(frac =0.1, axis=0, random_state=0)\n",
        "df_sample"
      ]
    },
    {
      "cell_type": "code",
      "execution_count": null,
      "metadata": {
        "id": "si0-pkf4n9BG"
      },
      "outputs": [],
      "source": [
        "df_num = df_sample._get_numeric_data()\n",
        "df_num.describe().round(2)\n"
      ]
    },
    {
      "cell_type": "markdown",
      "metadata": {
        "id": "QO11NfSZqfsG"
      },
      "source": [
        "## Creating Termination States"
      ]
    },
    {
      "cell_type": "code",
      "execution_count": null,
      "metadata": {
        "id": "x0LtFJ9yk2vt"
      },
      "outputs": [],
      "source": [
        "def loan_status (row):\n",
        "  if row['zero_bal_code'] in ['09','03','02','06','15','16']:\n",
        "    return \"D\"\n",
        "  elif row['zero_bal_code'] in ['01']:\n",
        "    return \"P\"\n",
        "  elif row ['dlq_status'] not in ('00','01','02','03','04','05'):\n",
        "    return \"D\"\n",
        "  else:\n",
        "    return \"A\"\n",
        "\n",
        "df_sample[\"target\"] = df_sample.apply(loan_status, axis=1)"
      ]
    },
    {
      "cell_type": "code",
      "execution_count": null,
      "metadata": {
        "id": "MontvbVX8LDw"
      },
      "outputs": [],
      "source": [
        "df_sample.groupby(['target'], dropna=False)['loan_id'].count()"
      ]
    },
    {
      "cell_type": "markdown",
      "metadata": {
        "id": "z68issiKq2lJ"
      },
      "source": [
        "# Cleaning the Rows"
      ]
    },
    {
      "cell_type": "code",
      "execution_count": null,
      "metadata": {
        "id": "_3AMuYiaUzxG"
      },
      "outputs": [],
      "source": [
        "df_not_active= df_sample[df_sample['target']!= 'A'].groupby(['loan_id']).agg({'act_period':'min'}).\\\n",
        "reset_index().rename(columns={'act_period':'last_period'})"
      ]
    },
    {
      "cell_type": "code",
      "execution_count": null,
      "metadata": {
        "id": "ZrU0r4B8ooni"
      },
      "outputs": [],
      "source": [
        "df_not_active.keys()"
      ]
    },
    {
      "cell_type": "code",
      "execution_count": null,
      "metadata": {
        "id": "rkBDHz7ZwgfX"
      },
      "outputs": [],
      "source": [
        "df_sample= df_sample.merge(df_not_active, on='loan_id', how='left')"
      ]
    },
    {
      "cell_type": "code",
      "execution_count": null,
      "metadata": {
        "id": "foCyd0mAw5qA"
      },
      "outputs": [],
      "source": [
        "df_sample.target.value_counts()"
      ]
    },
    {
      "cell_type": "code",
      "execution_count": null,
      "metadata": {
        "id": "d9eGaHKywgnu"
      },
      "outputs": [],
      "source": [
        "df_sample = df_sample.loc[~((df_sample['act_period'] > df_sample['last_period'])),:]"
      ]
    },
    {
      "cell_type": "code",
      "execution_count": null,
      "metadata": {
        "id": "ZXAMrt3RveDU"
      },
      "outputs": [],
      "source": [
        "df_sample.target.value_counts()"
      ]
    },
    {
      "cell_type": "markdown",
      "metadata": {
        "id": "xAMeQ3KlrOTV"
      },
      "source": [
        "## Analysing the Dataframe for Missing Values and Dropping Columns with Excessive Number of Missing Values"
      ]
    },
    {
      "cell_type": "code",
      "execution_count": null,
      "metadata": {
        "id": "RONqcqrjidMB"
      },
      "outputs": [],
      "source": [
        "obs_count = df_sample.shape[0]\n",
        "obs_count"
      ]
    },
    {
      "cell_type": "code",
      "execution_count": null,
      "metadata": {
        "id": "zoIeW9HIivEu"
      },
      "outputs": [],
      "source": [
        "missings =(df_sample.isnull().sum()/obs_count).sort_values(ascending=False).to_frame()\n",
        "missings\n"
      ]
    },
    {
      "cell_type": "code",
      "execution_count": null,
      "metadata": {
        "id": "eNHYpLBrjDfH"
      },
      "outputs": [],
      "source": [
        "missing_cols= ['margin',\n",
        "'lifetime_interest_rate_cap',\n",
        "'months_between_subsequent_payment_reset',\n",
        "'months_until_first_payment_reset',\n",
        "'arm_product_type',\n",
        "'arm_cap_structure',\n",
        "'arm_5_yr_indicator',\n",
        "'initial_interest_rate_cap',\n",
        "'periodic_interest_rate_cap',\n",
        "'arm_index',\n",
        "'balloon_indicator',\n",
        "'plan_number',\n",
        "'first_pay_io']"
      ]
    },
    {
      "cell_type": "code",
      "execution_count": null,
      "metadata": {
        "id": "SccgYa51po49"
      },
      "outputs": [],
      "source": [
        "df_sample.drop(missing_cols, axis=1, inplace=True)"
      ]
    },
    {
      "cell_type": "code",
      "execution_count": null,
      "metadata": {
        "id": "Qtc4dzEAfbvI"
      },
      "outputs": [],
      "source": [
        "df_sample.columns"
      ]
    },
    {
      "cell_type": "code",
      "execution_count": null,
      "metadata": {
        "id": "I_A_vfEFj15w"
      },
      "outputs": [],
      "source": [
        "df_sample"
      ]
    },
    {
      "cell_type": "markdown",
      "metadata": {
        "id": "5gb7T4-zrj2G"
      },
      "source": [
        "## Creating Additional Columns for Data Analysis"
      ]
    },
    {
      "cell_type": "code",
      "execution_count": null,
      "metadata": {
        "id": "AKFrfJ3SpL27"
      },
      "outputs": [],
      "source": [
        "df_sample['act_period'] = pd.to_datetime(df_sample['act_period'])\n",
        "df_sample['act_period'].day = 30\n",
        "df_sample['calc_age']= ((df_sample['act_period']-df_sample['orig_date'])/np.timedelta64(1,'M'))\n",
        "df_sample['calc_age'] = df_sample['calc_age'].astype(int)+1"
      ]
    },
    {
      "cell_type": "code",
      "execution_count": null,
      "metadata": {
        "id": "VDjQkfWtvJVT"
      },
      "outputs": [],
      "source": [
        "df_sample.loc[(df_sample['loan_age'].isnull()), \"loan_age\"] = df_sample['calc_age']"
      ]
    },
    {
      "cell_type": "code",
      "execution_count": null,
      "metadata": {
        "id": "rChCTBeMV3BJ"
      },
      "outputs": [],
      "source": [
        "df_sample['age_dif'] = df_sample['calc_age']-df_sample['loan_age']"
      ]
    },
    {
      "cell_type": "code",
      "execution_count": null,
      "metadata": {
        "id": "jMTb00bDkBXd"
      },
      "outputs": [],
      "source": [
        "print(df_sample.columns)"
      ]
    },
    {
      "cell_type": "code",
      "execution_count": null,
      "metadata": {
        "id": "ws5IHWM7duOK"
      },
      "outputs": [],
      "source": [
        "df_sample['calc_rem_months'] = df_sample['orig_term']- df_sample['loan_age']"
      ]
    },
    {
      "cell_type": "code",
      "execution_count": null,
      "metadata": {
        "id": "_eBN4OkydeSs"
      },
      "outputs": [],
      "source": [
        "df_sample.shape"
      ]
    },
    {
      "cell_type": "code",
      "execution_count": null,
      "metadata": {
        "id": "tRYOojHuea6t"
      },
      "outputs": [],
      "source": [
        "df_sample['calc_rem_months'] = df_sample['calc_rem_months'].astype(int)\n",
        "df_sample.loc[(df_sample['rem_months'].isnull()), \"rem_months\"] = df_sample['calc_rem_months']\n",
        "missings=df_sample['rem_months'].isnull().sum()\n",
        "print(missings)"
      ]
    },
    {
      "cell_type": "code",
      "execution_count": null,
      "metadata": {
        "id": "dRmFcLiGlc-c"
      },
      "outputs": [],
      "source": [
        "df_sample.isna().sum()"
      ]
    },
    {
      "cell_type": "markdown",
      "metadata": {
        "id": "jbRBVEkk7Que"
      },
      "source": [
        "## Imputing cscore_b with cscore_c or vice versa"
      ]
    },
    {
      "cell_type": "code",
      "execution_count": null,
      "metadata": {
        "id": "Yiuk6f9rFtS1"
      },
      "outputs": [],
      "source": [
        "len(df_sample.loc[(df_sample['cscore_b'] == 'NaN')])"
      ]
    },
    {
      "cell_type": "code",
      "execution_count": null,
      "metadata": {
        "id": "ot9c8b_3zRI0"
      },
      "outputs": [],
      "source": [
        "df_sample['cscore_b'] = np.where(df_sample['cscore_b'] == 'NaN', df_sample['cscore_c'], df_sample['cscore_b'])"
      ]
    },
    {
      "cell_type": "code",
      "execution_count": null,
      "metadata": {
        "id": "yiGEj16Q7Hzw"
      },
      "outputs": [],
      "source": [
        "df_sample['cscore_c'] = np.where(df_sample['cscore_c'] == 'NaN', df_sample['cscore_b'], df_sample['cscore_c'])"
      ]
    },
    {
      "cell_type": "markdown",
      "metadata": {
        "id": "vsxNHxHs7pMh"
      },
      "source": [
        "## Imputing ocltv with oltv"
      ]
    },
    {
      "cell_type": "code",
      "execution_count": null,
      "metadata": {
        "id": "RWzgygk175D6"
      },
      "outputs": [],
      "source": [
        "df_sample['ocltv'] = np.where(df_sample['ocltv'] == 'NaN', df_sample['oltv'], df_sample['ocltv'])"
      ]
    },
    {
      "cell_type": "markdown",
      "metadata": {
        "id": "9y5owdmd8UgH"
      },
      "source": [
        "## Imputing the missing values in numerical and categorical columns"
      ]
    },
    {
      "cell_type": "code",
      "execution_count": null,
      "metadata": {
        "id": "WURHdIoK8cuH"
      },
      "outputs": [],
      "source": [
        "def fill_numerical_values(df, x_var):\n",
        "  df[x_var] = df[x_var].fillna(df[x_var].median())"
      ]
    },
    {
      "cell_type": "code",
      "execution_count": null,
      "metadata": {
        "id": "v7l_UySJ8kNA"
      },
      "outputs": [],
      "source": [
        "def fill_cat_values (df, x_var):\n",
        "  df[x_var] = df[x_var].fillna(df[x_var].mode())"
      ]
    },
    {
      "cell_type": "code",
      "execution_count": null,
      "metadata": {
        "id": "J-NoOdd_8oQt"
      },
      "outputs": [],
      "source": [
        "#def fill_categorical_values (df, x_var):\n",
        "  #df = df.apply(lambda x: x.fillna(x.value_counts().index[0]))"
      ]
    },
    {
      "cell_type": "code",
      "execution_count": null,
      "metadata": {
        "id": "9yfkqUFACEy7"
      },
      "outputs": [],
      "source": [
        "df_sample.channel.mode()"
      ]
    },
    {
      "cell_type": "code",
      "execution_count": null,
      "metadata": {
        "id": "I5mslcMBrxkd"
      },
      "outputs": [],
      "source": [
        "imp_num = SimpleImputer(strategy='mean') #imputing numerical columns with the mean"
      ]
    },
    {
      "cell_type": "code",
      "execution_count": null,
      "metadata": {
        "id": "3AtC4HFDrxn4"
      },
      "outputs": [],
      "source": [
        "imp_cat= SimpleImputer(strategy='most_frequent') #imputing categorical columns with the mode"
      ]
    },
    {
      "cell_type": "code",
      "execution_count": null,
      "metadata": {
        "id": "hMa9nU_zA-m8"
      },
      "outputs": [],
      "source": [
        "df_sample.columns"
      ]
    },
    {
      "cell_type": "code",
      "execution_count": null,
      "metadata": {
        "id": "vIRgx5Do9jKH"
      },
      "outputs": [],
      "source": [
        "num_cols = ['orig_rate', 'orig_upb', 'orig_term', 'loan_age', 'rem_months', 'oltv', 'ocltv', 'dti', 'cscore_b', 'cscore_c', 'mi_pct', 'calc_rem_months', 'age_dif', 'calc_age' ]"
      ]
    },
    {
      "cell_type": "code",
      "execution_count": null,
      "metadata": {
        "id": "0lCn7kQprxrR"
      },
      "outputs": [],
      "source": [
        "cat_columns= ['channel', 'first_flag', 'purpose', 'prop', 'no_units', 'occ_stat', 'state', 'product', 'ppmt_flg', 'io', 'mi_type', 'homeready_program_indicator', 'relocation_mortgage_indicator', 'high_balance_loan_indicator', 'high_loan_to_value_hltv_refinance_option_indicator', 'num_bo']"
      ]
    },
    {
      "cell_type": "code",
      "execution_count": null,
      "metadata": {
        "id": "qmcmCkzg_9cD"
      },
      "outputs": [],
      "source": [
        "for i in num_cols:\n",
        "  fill_numerical_values(df_sample, i)"
      ]
    },
    {
      "cell_type": "code",
      "execution_count": null,
      "metadata": {
        "id": "HQ7ZkipBBPWl"
      },
      "outputs": [],
      "source": [
        "for i in cat_columns:\n",
        "  fill_cat_values(df_sample, i)"
      ]
    },
    {
      "cell_type": "code",
      "execution_count": null,
      "metadata": {
        "id": "hIAO0VQHNF_L"
      },
      "outputs": [],
      "source": [
        "for i in cat_columns:\n",
        "  df_sample[i].fillna(df_sample[i].mode().iloc[0], inplace=True)\n",
        "#Imputing categorical columns with the most common element in the column"
      ]
    },
    {
      "cell_type": "code",
      "execution_count": null,
      "metadata": {
        "id": "_y6c7HEi1eMB"
      },
      "outputs": [],
      "source": [
        "df_sample.isna().sum()"
      ]
    },
    {
      "cell_type": "code",
      "execution_count": null,
      "metadata": {
        "id": "O1virI6WKUCA"
      },
      "outputs": [],
      "source": [
        "# df_sample.drop(['zb_dte'], inplace= True, axis=1)\n",
        "# zb_dte has the same number of missing columns as zero_bal_code and we believe that there is a strong correlation between these columns\n",
        "# therefore we dropped zb_dte column."
      ]
    },
    {
      "cell_type": "code",
      "execution_count": null,
      "metadata": {
        "id": "s5L-fEGSabOA"
      },
      "outputs": [],
      "source": [
        "from locale import normalize\n",
        "df_sample['mi_type'].value_counts(normalize=True)"
      ]
    },
    {
      "cell_type": "code",
      "execution_count": null,
      "metadata": {
        "id": "HbjBoBkj2LZk"
      },
      "outputs": [],
      "source": [
        "# we tried to write a code to impute the mi_type column with the current distribution of the existing values. However, there was an issues due to random variables and\n",
        "# we skipped this part in order to follow up the basic instructions that told us to impute the value with the most frequent value of this column.\n",
        "\n",
        "\n",
        "# from pandas.core.common import random_state\n",
        "#import random\n",
        "# for i in range(0,3):\n",
        "#  j=0\n",
        "#  while j <(len(df_sample)*df_sample['mi_type'].value_counts(normalize=True)[i]-1):\n",
        "#    if df_sample[random.randint(0, 557672)]['mi_type'].isna()==True or df_sample[random.randint(0, 557672)]['mi_type']==0:\n",
        "#      df_sample[random.randint(0, 557672)]['mi_type']=i\n",
        "#      j +=1"
      ]
    },
    {
      "cell_type": "code",
      "execution_count": null,
      "metadata": {
        "id": "04Y6pZruZQIq"
      },
      "outputs": [],
      "source": [
        "df_sample.isna().sum()"
      ]
    },
    {
      "cell_type": "code",
      "execution_count": null,
      "metadata": {
        "id": "HckSA-JSZewT"
      },
      "outputs": [],
      "source": [
        "obs_count = df_sample.shape[0]\n",
        "obs_count\n",
        "missings =(df_sample.isnull().sum()/obs_count).sort_values(ascending=False).to_frame()\n",
        "missings"
      ]
    },
    {
      "cell_type": "code",
      "execution_count": null,
      "metadata": {
        "id": "D5fU5rHPPCTB"
      },
      "outputs": [],
      "source": [
        "imp_cat.fit_transform(df_sample)"
      ]
    },
    {
      "cell_type": "code",
      "execution_count": null,
      "metadata": {
        "id": "PsAyY3n3kyCX"
      },
      "outputs": [],
      "source": [
        "obs_count = df_sample.shape[0]\n",
        "obs_count\n",
        "missings =(df_sample.isnull().sum()/obs_count).sort_values(ascending=False).to_frame()\n",
        "missings"
      ]
    },
    {
      "cell_type": "markdown",
      "metadata": {
        "id": "fOWHIV5uDSG1"
      },
      "source": [
        "# Creating New Variables"
      ]
    },
    {
      "cell_type": "markdown",
      "metadata": {
        "id": "-h-aNTCQD5IC"
      },
      "source": [
        "## Creating 'origination_value' Variable"
      ]
    },
    {
      "cell_type": "code",
      "execution_count": null,
      "metadata": {
        "id": "Vv27rIgHvnXj"
      },
      "outputs": [],
      "source": [
        "df_sample['orig_upb']"
      ]
    },
    {
      "cell_type": "code",
      "execution_count": null,
      "metadata": {
        "id": "fvOTqkjP_YUJ"
      },
      "outputs": [],
      "source": [
        "df_sample['oltv']"
      ]
    },
    {
      "cell_type": "code",
      "execution_count": null,
      "metadata": {
        "id": "VEKdq5I0CNU0"
      },
      "outputs": [],
      "source": [
        "#converting 'oltv' to decimal\n",
        "\n",
        "df_sample['oltv_d']=df_sample['oltv'].astype(float)/100"
      ]
    },
    {
      "cell_type": "code",
      "execution_count": null,
      "metadata": {
        "id": "80MgR61cAoeA"
      },
      "outputs": [],
      "source": [
        "df_sample['orig_value']= (df_sample['orig_upb']/df_sample['oltv_d'])"
      ]
    },
    {
      "cell_type": "code",
      "execution_count": null,
      "metadata": {
        "id": "SMCr_gD0A4Mb"
      },
      "outputs": [],
      "source": [
        "df_sample['orig_value']"
      ]
    },
    {
      "cell_type": "markdown",
      "metadata": {
        "id": "E2miv87CDrw5"
      },
      "source": [
        "## Creating 'vintage' Variable"
      ]
    },
    {
      "cell_type": "code",
      "execution_count": null,
      "metadata": {
        "id": "9z1GAtCn-8VX"
      },
      "outputs": [],
      "source": [
        "import matplotlib.pyplot as plt"
      ]
    },
    {
      "cell_type": "code",
      "execution_count": null,
      "metadata": {
        "id": "KTcikryY8sPk"
      },
      "outputs": [],
      "source": [
        "df_sample['Vintage'] = df_sample['orig_date'].dt.year\n",
        "plt.hist(df_sample['Vintage']);"
      ]
    },
    {
      "cell_type": "code",
      "execution_count": null,
      "metadata": {
        "id": "3tsieFwXm_23"
      },
      "outputs": [],
      "source": [
        "cat_columns= cat_columns + ['Vintage']"
      ]
    },
    {
      "cell_type": "code",
      "execution_count": null,
      "metadata": {
        "id": "kmVfBeYEohR4"
      },
      "outputs": [],
      "source": [
        "num_cols = num_cols + ['orig_value']"
      ]
    },
    {
      "cell_type": "markdown",
      "metadata": {
        "id": "LpCoexeXOqr3"
      },
      "source": [
        "## Checking correlation among variables"
      ]
    },
    {
      "cell_type": "code",
      "execution_count": null,
      "metadata": {
        "id": "QEH9fSL7XC7n"
      },
      "outputs": [],
      "source": [
        "df_sample.corr()\n",
        "fig, ax = plt.subplots(figsize=(15, 15))\n",
        "sns.heatmap(df_sample.corr(), annot= True);"
      ]
    },
    {
      "cell_type": "code",
      "execution_count": null,
      "metadata": {
        "id": "Nvqz7NRLZVrp"
      },
      "outputs": [],
      "source": [
        "fig, ax = plt.subplots(figsize=(15, 15))\n",
        "sns.heatmap(df_sample.corr(method='kendall'), annot= True);"
      ]
    },
    {
      "cell_type": "code",
      "execution_count": null,
      "metadata": {
        "id": "rmr3f4SAZ14Y"
      },
      "outputs": [],
      "source": [
        "fig, ax = plt.subplots(figsize=(15, 15))\n",
        "sns.heatmap(df_sample.corr(method='spearman'), annot= True);"
      ]
    },
    {
      "cell_type": "markdown",
      "metadata": {
        "id": "j9cBZVUjEc0n"
      },
      "source": [
        "# Checking Outliers"
      ]
    },
    {
      "cell_type": "code",
      "execution_count": null,
      "metadata": {
        "id": "enrEqCgo5StM"
      },
      "outputs": [],
      "source": [
        "\n",
        "#np.random.seed(1234)\n",
        "\n",
        "#plt.subplot(2, 1, 1)\n",
        "#df_sample = pd.DataFrame(np.random.randn(15, 11),\n",
        "                   #columns=['orig_rate', 'orig_upb', 'orig_term', 'loan_age', 'rem_months', 'oltv', 'ocltv', 'dti', 'cscore_b', 'cscore_c', 'mi_pct'])\n",
        "#df_sample.boxplot(column=['orig_rate', 'orig_upb', 'orig_term', 'loan_age', 'rem_months', 'oltv', 'ocltv', 'dti', 'cscore_b', 'cscore_c', 'mi_pct'], grid= False, fontsize = 15, rot = 60, figsize=(9,9))\n",
        "\n",
        "#plt.subplot(2, 1, 2)\n",
        "\n",
        "#df_sample(column=num_cols, grid= False, fontsize = 15, rot = 60, figsize=(9,9))\n",
        "\n",
        "\n",
        "#fig, axs = plt.subplots(5, 2, figsize=(10,10), sharey=False)\n",
        "\n",
        "#df_sample.boxplot('orig_rate', ax=ax[0,0])\n",
        "#df_sample.boxplot('orig_upb', ax=ax[0,1])\n",
        "#df_sample.boxplot('orig_term', ax=ax[0,2])\n",
        "#df_sample.boxplot('loan_age', ax=ax[0,3])\n",
        "#df_sample.boxplot('rem_months', ax=ax[0,4])\n",
        "\n",
        "#fig, axs = plt.subplots(1, 6, figsize=(10,10), sharey=False)\n",
        "\n",
        "#df_sample.boxplot('oltv', ax=ax[0,5])\n",
        "#df_sample.boxplot('ocltv', ax=ax[0,6])\n",
        "#df_sample.boxplot('dti', ax=ax[0,7])\n",
        "#df_sample.boxplot('cscore_b', ax=ax[0,8])\n",
        "#df_sample.boxplot('cscore_c', ax=ax[0,9])\n",
        "#df_sample.boxplot('mi_pct', ax=ax[0,10])\n",
        "\n",
        "#plt.subplots_adjust(wspace=0.5)\n",
        "\n",
        "#plt.show()"
      ]
    },
    {
      "cell_type": "code",
      "execution_count": null,
      "metadata": {
        "id": "jI7Zsvrog_VP"
      },
      "outputs": [],
      "source": [
        "#plt.figure(figsize=(20,5))\n",
        "#for i in range(1, len(df_sample.columns)+1):\n",
        "  #plt.subplot(1, len(df_sample.columns), i)\n",
        "  #sns.boxplot(data=df_sample.iloc[:, i-1] )"
      ]
    },
    {
      "cell_type": "code",
      "execution_count": null,
      "metadata": {
        "id": "CoDcvJQ0yoxO"
      },
      "outputs": [],
      "source": [
        "plt.figure(figsize=(30,20))\n",
        "\n",
        "num_cols1 = ['orig_rate', 'orig_upb', 'orig_term', 'calc_age', 'calc_rem_months', 'age_dif']\n",
        "fig, axes = plt.subplots(1, len(num_cols1))\n",
        "for i, col in enumerate(num_cols1):\n",
        "    ax = sns.boxplot(y=df_sample[col], ax=axes.flatten()[i])\n",
        "\n",
        "plt.subplots_adjust(wspace=2);\n",
        "\n",
        "\n",
        "\n",
        "num_cols2 = ['loan_age', 'rem_months', 'oltv', 'ocltv', 'orig_value']\n",
        "fig, axes = plt.subplots(1, len(num_cols2))\n",
        "for i, col in enumerate(num_cols2):\n",
        "    ax = sns.boxplot(y=df_sample[col], ax=axes.flatten()[i])\n",
        "\n",
        "plt.subplots_adjust(wspace=1.5);\n",
        "\n",
        "\n",
        "\n",
        "num_cols3 = ['dti', 'cscore_b', 'cscore_c', 'mi_pct']\n",
        "fig, axes = plt.subplots(1, len(num_cols3))\n",
        "for i, col in enumerate(num_cols3):\n",
        "    ax = sns.boxplot(y=df_sample[col], ax=axes.flatten()[i])\n",
        "\n",
        "plt.subplots_adjust(wspace=1.5);\n",
        "\n",
        "\n",
        "plt.show()"
      ]
    },
    {
      "cell_type": "code",
      "execution_count": null,
      "metadata": {
        "id": "HeYh5OqoEg6J"
      },
      "outputs": [],
      "source": [
        "# !!!!!!\n",
        "\n",
        "def cap_floor(df, x_val):\n",
        "  q_l = df[x_val].quantile(0.01)\n",
        "  q_h = df[x_val].quantile(0.99)\n",
        "\n",
        "  df.loc[df[x_val]<= q_l, x_val] = q_l\n",
        "  df.loc[df[x_val]>= q_h, x_val] = q_h\n",
        "\n",
        "\n",
        "  #print(q_l)\n",
        "  #print(q_h)\n",
        "\n",
        "  # df_filtered = df[(df[x_val] > q_l) & (df[x_val] < q_h)] (you can use or)\n",
        "\n",
        "  # return df_filtered\n",
        "\n",
        "\n",
        "  #df = df.drop('q_l', axis=0)\n",
        "  #df = df.drop('q_h', axis=0)\n"
      ]
    },
    {
      "cell_type": "code",
      "execution_count": null,
      "metadata": {
        "id": "3BfUYr5UsSrv"
      },
      "outputs": [],
      "source": [
        "df_sample.shape"
      ]
    },
    {
      "cell_type": "code",
      "execution_count": null,
      "metadata": {
        "id": "vyq5GKJ_4dF6"
      },
      "outputs": [],
      "source": [
        "for i in (num_cols):\n",
        "\n",
        "  cap_floor(df_sample, i)"
      ]
    },
    {
      "cell_type": "markdown",
      "metadata": {
        "id": "rQ3eDiXvHBbr"
      },
      "source": [
        "# Variable Relationship with the target"
      ]
    },
    {
      "cell_type": "code",
      "execution_count": null,
      "metadata": {
        "id": "YtHBzUV-j-Qr"
      },
      "outputs": [],
      "source": [
        "df_sample['Default']= df_sample.apply(lambda x : 1 if x['target']=='D' else 0,axis=1)"
      ]
    },
    {
      "cell_type": "code",
      "execution_count": null,
      "metadata": {
        "id": "-SzTTgoyHAwt"
      },
      "outputs": [],
      "source": [
        "def univariate_plot_v3(df, x_var, y_var, bin_size):\n",
        "  if x_var in num_cols:\n",
        "    fig,ax = plt.subplots()\n",
        "    s=df.groupby([pd.cut(df[x_var], bins=bin_size, precision =0)]).agg({'loan_id':'count', y_var:'mean'})\n",
        "    sns.barplot(x=x_var, y='loan_id', data=s.reset_index(), palette=\"Blues_d\", ax=ax)\n",
        "    ax2 = ax.twinx()\n",
        "    sns.lineplot(x=range(len(s.reset_index())), y=y_var, data=s.reset_index(), color='red', markers=True, ax=ax2)\n",
        "    ax.set_xticklabels(s.index.values, rotation = 45, ha=\"right\")\n",
        "\n",
        "  elif x_var in cat_cols:\n",
        "    fig,ax = plt.subplots()\n",
        "    s=df.groupby(df[x_var]).agg({'loan_id':'count', y_var:'mean'})\n",
        "    sns.barplot(x=x_var, y='loan_id', data=s.reset_index(), palette=\"Blues_d\", ax=ax)\n",
        "    ax2 = ax.twinx()\n",
        "    sns.lineplot(x=range(len(s.reset_index())), y=y_var, data=s.reset_index(), color='red', markers=True, ax=ax2)\n",
        "    ax.set_xticklabels(s.index.values, rotation = 45, ha=\"right\")\n"
      ]
    },
    {
      "cell_type": "code",
      "execution_count": null,
      "metadata": {
        "id": "Q_pmeFDZmkwm"
      },
      "outputs": [],
      "source": [
        "cat_cols= ['channel', 'first_flag', 'purpose', 'prop', 'no_units', 'occ_stat', 'state', 'product', 'ppmt_flg', 'io', 'mi_type', 'homeready_program_indicator', 'relocation_mortgage_indicator', 'high_balance_loan_indicator', 'high_loan_to_value_hltv_refinance_option_indicator', 'num_bo', 'Vintage']"
      ]
    },
    {
      "cell_type": "code",
      "execution_count": null,
      "metadata": {
        "id": "qploCJ_iw81k"
      },
      "outputs": [],
      "source": []
    },
    {
      "cell_type": "code",
      "execution_count": null,
      "metadata": {
        "id": "C0JDMnQQJKx0"
      },
      "outputs": [],
      "source": [
        "vars_to_plot = cat_columns + num_cols\n",
        "\n",
        "for i in (vars_to_plot):\n",
        "  univariate_plot_v3(df_sample,i,'Default', 10)"
      ]
    },
    {
      "cell_type": "code",
      "execution_count": null,
      "metadata": {
        "id": "ch9QdD0lF93d"
      },
      "outputs": [],
      "source": [
        "# dropping the columns that has no power\n",
        "cols_no_variation = ['product', 'ppmt_flg','high_loan_to_value_hltv_refinance_option_indicator', 'io']"
      ]
    },
    {
      "cell_type": "code",
      "execution_count": null,
      "metadata": {
        "id": "b3V4Lc-kGmoY"
      },
      "outputs": [],
      "source": [
        "df_sample.drop(cols_no_variation, inplace=True, axis=1)"
      ]
    },
    {
      "cell_type": "code",
      "execution_count": null,
      "metadata": {
        "id": "_dYgV2hmGvBC"
      },
      "outputs": [],
      "source": [
        "vars_to_plot = [x for x in vars_to_plot if x not in cols_no_variation]"
      ]
    },
    {
      "cell_type": "code",
      "execution_count": null,
      "metadata": {
        "id": "5OZiX3xQG47O"
      },
      "outputs": [],
      "source": [
        "for i in (vars_to_plot):\n",
        "\n",
        "  univariate_plot_v3(df_sample,i,'Default', 10)"
      ]
    },
    {
      "cell_type": "markdown",
      "metadata": {
        "id": "6mtV11e2NUqV"
      },
      "source": [
        "# Variable Relationships with the competing terminal state"
      ]
    },
    {
      "cell_type": "code",
      "execution_count": null,
      "metadata": {
        "id": "VUqydOTZKVt2"
      },
      "outputs": [],
      "source": [
        "def univariate_plot_overlay(df, x_var, y_var_1, y_var_2, bin_size):\n",
        "  if x_var in num_cols:\n",
        "    s1=df.groupby([pd.cut(df[x_var], bins=10)]).mean([y_var_1,y_var_2])\n",
        "    p1=sns.lineplot(data=s1, x=s1[x_var], y=y_var_1, label=y_var_1)\n",
        "    p2=sns.lineplot(data=s1, x=s1[x_var], y=y_var_2, label=y_var_2)\n",
        "\n",
        "  elif x_var in cat_cols:\n",
        "    s1=df.groupby(df[x_var]).mean([y_var_1,y_var_2])\n",
        "\n",
        "    fig,ax = plt.subplots()\n",
        "\n",
        "    s1=s1[[y_var_1, y_var_2]]\n",
        "    s1[x_var]=s1.index\n",
        "    print(s1)\n",
        "    s1.plot.bar(x=x_var, ax=ax)\n",
        "\n",
        "    plt.xticks(rotation=45)\n",
        "    plt.show();\n"
      ]
    },
    {
      "cell_type": "code",
      "execution_count": null,
      "metadata": {
        "id": "Phuc1L4hLvBd"
      },
      "outputs": [],
      "source": [
        "df_sample['Prepay']=df_sample.apply(lambda row : 1 if row['target']=='P' else 0, axis=1)"
      ]
    },
    {
      "cell_type": "code",
      "execution_count": null,
      "metadata": {
        "id": "cBIdyU8tMCeS"
      },
      "outputs": [],
      "source": [
        "for i in (vars_to_plot):\n",
        "\n",
        "  univariate_plot_overlay(df_sample, i, 'Default', 'Prepay', 10)"
      ]
    },
    {
      "cell_type": "code",
      "execution_count": null,
      "metadata": {
        "id": "B3IJSTAix5PU"
      },
      "outputs": [],
      "source": []
    },
    {
      "cell_type": "markdown",
      "metadata": {
        "id": "_e2CJCmVEPCt"
      },
      "source": [
        "# Conclusion"
      ]
    },
    {
      "cell_type": "markdown",
      "metadata": {
        "id": "Z4pVMNn4EcYT"
      },
      "source": [
        "*1*. If the mortgage channel is ‘Broker’, then there is a higher probability of ‘Default’.\n",
        "1. First time home buyers are more likely to default compared to those who are    getting their second or other types of mortgages.\n",
        "1. If borrower access the cash value inside the property it is more likely to default.\n",
        "1. If the house is manufactured house there is high likelihood to default.\n",
        "\n",
        "1. If it is an investment or rental property there is a more likelihood default. Those people who are living in their primary residence are less likelihood to default.\n",
        "\n",
        "1. If the borrower is invested there is a high probability of default.\n",
        "\n",
        "1. VI has highest default, FL has second highest and RP has third highest default ratio.\n",
        "\n",
        "1. If the lender paid the mortgage insurance premium payment there is higher probability of default.\n",
        "\n",
        "1. If the borrower participate the HomeReady program there is high default ratio.  \n",
        "\n",
        "1. If a loan is given to a person who is relocating because of work the default ratio is smaller. It can also mean that employment status has a negative correlation with the default rate.\n",
        "\n",
        "1. Those borrowers who purchase expensive properties with large mortgage are less likely to default.\n",
        "\n",
        "1. When there was an economic downturn (2006-2008) there were high defaults.\n",
        "\n",
        "1. When the mortgage rate increases, there is a higher probability of default.\n",
        "\n",
        "1. When the loan size is increasing after $400k, the default value is decreasing. It can mean prosperous borrowers who purchased more expensive properties are less likely to default.\n",
        "\n",
        "1. If the length of the term of the loan is longer, the default rate increases. The smaller the term, the less likely borrow to default.\n",
        "\n",
        "1. If debt-to-income ratio increases, there is a high likelihood of default.\n",
        "\n",
        "1. If the borrower has higher credit score it is less likely to default.\n",
        "\n",
        "1. If remanning months between 20-25 years it has the highest probability of default."
      ]
    }
  ],
  "metadata": {
    "colab": {
      "collapsed_sections": [
        "zhCECcqIpbQu",
        "z68issiKq2lJ",
        "vsxNHxHs7pMh",
        "9y5owdmd8UgH",
        "fOWHIV5uDSG1",
        "j9cBZVUjEc0n",
        "6mtV11e2NUqV",
        "_e2CJCmVEPCt"
      ],
      "provenance": [],
      "toc_visible": true,
      "include_colab_link": true
    },
    "kernelspec": {
      "display_name": "Python 3",
      "name": "python3"
    },
    "language_info": {
      "name": "python"
    }
  },
  "nbformat": 4,
  "nbformat_minor": 0
}